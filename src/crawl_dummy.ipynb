{
 "cells": [
  {
   "cell_type": "code",
   "execution_count": 1,
   "metadata": {},
   "outputs": [
    {
     "output_type": "stream",
     "name": "stdout",
     "text": "Hi!\n"
    }
   ],
   "source": [
    "dummyTxt = \"Hi!\"\n",
    "print(dummyTxt)\n",
    "\n",
    "import pandas as pd\n",
    "from pytrends.request import TrendReq"
   ]
  },
  {
   "cell_type": "code",
   "execution_count": 2,
   "metadata": {},
   "outputs": [],
   "source": [
    "pytrend = TrendReq()\n",
    "\n",
    "kw_list = ['Sony mirrorless', 'Canon mirrorless', 'Nikon mirrorless']\n",
    "pytrend.build_payload(kw_list)\n",
    "df = pytrend.get_historical_interest(kw_list, year_start=2016, month_start=2, day_start=1, hour_start=0, year_end=2016, month_end=4, day_end=1, hour_end=0, cat=0, geo='', gprop='', sleep=30)"
   ]
  },
  {
   "cell_type": "code",
   "execution_count": 4,
   "metadata": {},
   "outputs": [
    {
     "output_type": "execute_result",
     "data": {
      "text/plain": "                     Sony mirrorless  Canon mirrorless  Nikon mirrorless  \\\ndate                                                                       \n2016-02-01 00:00:00               53                34                20   \n2016-02-01 01:00:00               73                32                22   \n2016-02-01 02:00:00               71                34                24   \n2016-02-01 03:00:00               73                52                37   \n2016-02-01 04:00:00               92                43                29   \n2016-02-01 05:00:00               73                35                23   \n2016-02-01 06:00:00               63                37                22   \n2016-02-01 07:00:00               53                26                19   \n2016-02-01 08:00:00               41                28                21   \n2016-02-01 09:00:00               39                27                21   \n\n                     isPartial  \ndate                            \n2016-02-01 00:00:00      False  \n2016-02-01 01:00:00      False  \n2016-02-01 02:00:00      False  \n2016-02-01 03:00:00      False  \n2016-02-01 04:00:00      False  \n2016-02-01 05:00:00      False  \n2016-02-01 06:00:00      False  \n2016-02-01 07:00:00      False  \n2016-02-01 08:00:00      False  \n2016-02-01 09:00:00      False  ",
      "text/html": "<div>\n<style scoped>\n    .dataframe tbody tr th:only-of-type {\n        vertical-align: middle;\n    }\n\n    .dataframe tbody tr th {\n        vertical-align: top;\n    }\n\n    .dataframe thead th {\n        text-align: right;\n    }\n</style>\n<table border=\"1\" class=\"dataframe\">\n  <thead>\n    <tr style=\"text-align: right;\">\n      <th></th>\n      <th>Sony mirrorless</th>\n      <th>Canon mirrorless</th>\n      <th>Nikon mirrorless</th>\n      <th>isPartial</th>\n    </tr>\n    <tr>\n      <th>date</th>\n      <th></th>\n      <th></th>\n      <th></th>\n      <th></th>\n    </tr>\n  </thead>\n  <tbody>\n    <tr>\n      <th>2016-02-01 00:00:00</th>\n      <td>53</td>\n      <td>34</td>\n      <td>20</td>\n      <td>False</td>\n    </tr>\n    <tr>\n      <th>2016-02-01 01:00:00</th>\n      <td>73</td>\n      <td>32</td>\n      <td>22</td>\n      <td>False</td>\n    </tr>\n    <tr>\n      <th>2016-02-01 02:00:00</th>\n      <td>71</td>\n      <td>34</td>\n      <td>24</td>\n      <td>False</td>\n    </tr>\n    <tr>\n      <th>2016-02-01 03:00:00</th>\n      <td>73</td>\n      <td>52</td>\n      <td>37</td>\n      <td>False</td>\n    </tr>\n    <tr>\n      <th>2016-02-01 04:00:00</th>\n      <td>92</td>\n      <td>43</td>\n      <td>29</td>\n      <td>False</td>\n    </tr>\n    <tr>\n      <th>2016-02-01 05:00:00</th>\n      <td>73</td>\n      <td>35</td>\n      <td>23</td>\n      <td>False</td>\n    </tr>\n    <tr>\n      <th>2016-02-01 06:00:00</th>\n      <td>63</td>\n      <td>37</td>\n      <td>22</td>\n      <td>False</td>\n    </tr>\n    <tr>\n      <th>2016-02-01 07:00:00</th>\n      <td>53</td>\n      <td>26</td>\n      <td>19</td>\n      <td>False</td>\n    </tr>\n    <tr>\n      <th>2016-02-01 08:00:00</th>\n      <td>41</td>\n      <td>28</td>\n      <td>21</td>\n      <td>False</td>\n    </tr>\n    <tr>\n      <th>2016-02-01 09:00:00</th>\n      <td>39</td>\n      <td>27</td>\n      <td>21</td>\n      <td>False</td>\n    </tr>\n  </tbody>\n</table>\n</div>"
     },
     "metadata": {},
     "execution_count": 4
    }
   ],
   "source": [
    "df.head(10)"
   ]
  },
  {
   "cell_type": "code",
   "execution_count": null,
   "metadata": {},
   "outputs": [],
   "source": []
  }
 ],
 "metadata": {
  "kernelspec": {
   "display_name": "Python 3",
   "language": "python",
   "name": "python3"
  },
  "language_info": {
   "codemirror_mode": {
    "name": "ipython",
    "version": 3
   },
   "file_extension": ".py",
   "mimetype": "text/x-python",
   "name": "python",
   "nbconvert_exporter": "python",
   "pygments_lexer": "ipython3",
   "version": "3.8.2"
  }
 },
 "nbformat": 4,
 "nbformat_minor": 4
}