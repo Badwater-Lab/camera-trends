{
 "cells": [
  {
   "cell_type": "code",
   "execution_count": 1,
   "metadata": {},
   "outputs": [],
   "source": [
    "import pandas as pd\n",
    "import matplotlib.pyplot as plt\n",
    "import time\n",
    "import pickle\n",
    "from pytrends.request import TrendReq\n",
    "pytrend = TrendReq()\n",
    "\n",
    "kw_list = ['\"Canon\" \"dslr\"', '\"Nikon\" \"dslr\"', '\"Sony\" \"dslr\"']"
   ]
  },
  {
   "cell_type": "code",
   "execution_count": 2,
   "metadata": {},
   "outputs": [],
   "source": [
    "class Trend:\n",
    "    # Required:\n",
    "        # import pandas as pd\n",
    "        # import pickle\n",
    "        # import matplotlib.pyplot as plt\n",
    "        # from pytrends.request import TrendReq\n",
    "        # pytrend = TrendReq()\n",
    "        \n",
    "    def __init__(self, year, month, kwList):\n",
    "        self.year = year\n",
    "        self.month = month\n",
    "        self.kwList = kwList\n",
    "\n",
    "    def monthEndDate(self):\n",
    "        switcher = {\n",
    "            1: 31,\n",
    "            2: 28,\n",
    "            3: 31,\n",
    "            4: 30,\n",
    "            5: 31,\n",
    "            6: 30,\n",
    "            7: 31,\n",
    "            8: 31,\n",
    "            9: 30,\n",
    "            10: 31,\n",
    "            11: 30,\n",
    "            12: 31,\n",
    "        }\n",
    "        if ((self.year%4 == 0) and (self.month == 2)):\n",
    "            switcher[2] = 29\n",
    "        return switcher.get(self.month)\n",
    "\n",
    "    def timeframe(self):\n",
    "        date_start = str(self.year) + '-' + str(self.month) + '-01'\n",
    "        date_end = str(self.year) + '-' + str(self.month) + \"-\" + str(self.monthEndDate())\n",
    "        return date_start + ' ' + date_end\n",
    "\n",
    "    def scrape(self):\n",
    "        pytrend.build_payload(self.kwList, timeframe=self.timeframe())\n",
    "        self.trend = (pytrend.interest_by_region()).reset_index()\n",
    "        \n",
    "    def toPickle(self, keyword, path):\n",
    "        keyword = keyword.replace(' ', '-')\n",
    "        monthStr = '0' + str(self.month) if self.month < 10 else str(self.month)\n",
    "        fileName = str(self.year) + '-' + monthStr + '-' + str(keyword)\n",
    "        pathName = str(path) + '/' + fileName + '.pkl'\n",
    "        with open(pathName, 'wb') as f:\n",
    "            pickle.dump(self.trend, f)\n",
    "\n",
    "    def preview(self):\n",
    "        print(\"Head:\")\n",
    "        print(self.trend.head(10))\n",
    "        print(\"..............................\")\n",
    "        print(\"Tail:\")\n",
    "        print(self.trend.tail(10))\n",
    "    \n",
    "    def hist(self):\n",
    "        plt.figure(figsize=(8,6))\n",
    "        for i in range(1, len((self.trend).columns)):\n",
    "            plt.hist((self.trend).iloc[:, i], range=(0,100), bins=10, alpha=0.3, label=(self.trend).columns[i])\n",
    "        plt.title(str(self.year) + '-' + str(self.month))\n",
    "        plt.ylabel('Frequency')\n",
    "        plt.legend()\n",
    "        plt.show()\n",
    "        \n",
    "    def scatter(self):\n",
    "        plt.figure(figsize=(8,6))\n",
    "        for i in range(1, len((self.trend).columns)):\n",
    "            plt.scatter(x=(self.trend).index, y=(self.trend).iloc[:, i], s=4, alpha=0.5, label=(self.trend).columns[i])\n",
    "        plt.ylim((0,100))\n",
    "        plt.title(str(self.year) + '-' + str(self.month))\n",
    "        plt.ylabel('Trending index')\n",
    "        plt.legend()\n",
    "        plt.show()\n"
   ]
  },
  {
   "cell_type": "code",
   "execution_count": 3,
   "metadata": {},
   "outputs": [],
   "source": [
    "t = Trend(2012, 4, kw_list)\n",
    "t.scrape()"
   ]
  },
  {
   "cell_type": "code",
   "execution_count": 6,
   "metadata": {},
   "outputs": [
    {
     "data": {
      "text/html": [
       "<div>\n",
       "<style scoped>\n",
       "    .dataframe tbody tr th:only-of-type {\n",
       "        vertical-align: middle;\n",
       "    }\n",
       "\n",
       "    .dataframe tbody tr th {\n",
       "        vertical-align: top;\n",
       "    }\n",
       "\n",
       "    .dataframe thead th {\n",
       "        text-align: right;\n",
       "    }\n",
       "</style>\n",
       "<table border=\"1\" class=\"dataframe\">\n",
       "  <thead>\n",
       "    <tr style=\"text-align: right;\">\n",
       "      <th></th>\n",
       "      <th>geoName</th>\n",
       "      <th>\"Canon\" \"dslr\"</th>\n",
       "      <th>\"Nikon\" \"dslr\"</th>\n",
       "      <th>\"Sony\" \"dslr\"</th>\n",
       "    </tr>\n",
       "  </thead>\n",
       "  <tbody>\n",
       "    <tr>\n",
       "      <th>7</th>\n",
       "      <td>Antarctica</td>\n",
       "      <td>0</td>\n",
       "      <td>0</td>\n",
       "      <td>0</td>\n",
       "    </tr>\n",
       "  </tbody>\n",
       "</table>\n",
       "</div>"
      ],
      "text/plain": [
       "      geoName  \"Canon\" \"dslr\"  \"Nikon\" \"dslr\"  \"Sony\" \"dslr\"\n",
       "7  Antarctica               0               0              0"
      ]
     },
     "execution_count": 6,
     "metadata": {},
     "output_type": "execute_result"
    }
   ],
   "source": [
    "t.trend[t.trend['geoName']=='Antarctica']"
   ]
  },
  {
   "cell_type": "code",
   "execution_count": null,
   "metadata": {
    "scrolled": true
   },
   "outputs": [],
   "source": [
    "for y in range(2006, 2021):\n",
    "    for m in range(1, 13):\n",
    "        if (y == 2020 and m>3):\n",
    "            break\n",
    "        while True:\n",
    "            try:\n",
    "                t = Trend(y, m, kw_list)\n",
    "                t.scrape()\n",
    "                t.toPickle('dslr', 'data/raw/dslr')\n",
    "                t.scatter()\n",
    "                print(str(y) + '-' + str(m) + ': DONE')\n",
    "                time.sleep(0.1)  # in seconds\n",
    "                break\n",
    "            except:\n",
    "                print(\"Error caught. Going to pause for some duration...\")\n",
    "                time.sleep(60)"
   ]
  }
 ],
 "metadata": {
  "kernelspec": {
   "display_name": "Python 3",
   "language": "python",
   "name": "python3"
  },
  "language_info": {
   "codemirror_mode": {
    "name": "ipython",
    "version": 3
   },
   "file_extension": ".py",
   "mimetype": "text/x-python",
   "name": "python",
   "nbconvert_exporter": "python",
   "pygments_lexer": "ipython3",
   "version": "3.6.9"
  }
 },
 "nbformat": 4,
 "nbformat_minor": 4
}
