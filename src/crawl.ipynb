{
 "cells": [
  {
   "cell_type": "code",
   "execution_count": 1,
   "metadata": {},
   "outputs": [
    {
     "name": "stdout",
     "output_type": "stream",
     "text": [
      "Hi!\n"
     ]
    }
   ],
   "source": [
    "dummyTxt = \"Hi!\"\n",
    "print(dummyTxt)\n",
    "\n",
    "# import pandas as pd\n",
    "from pytrends.request import TrendReq"
   ]
  },
  {
   "cell_type": "code",
   "execution_count": 3,
   "metadata": {},
   "outputs": [],
   "source": [
    "pytrend = TrendReq()\n",
    "\n",
    "kw_list = ['Sony mirrorless', 'Canon mirrorless', 'Nikon mirrorless']\n",
    "pytrend.build_payload(kw_list)\n",
    "df = pytrend.get_historical_interest(kw_list, year_start=2016, month_start=2, day_start=1, hour_start=0, year_end=2016, month_end=4, day_end=1, hour_end=0, cat=0, geo='', gprop='', sleep=30)"
   ]
  },
  {
   "cell_type": "code",
   "execution_count": 4,
   "metadata": {},
   "outputs": [
    {
     "name": "stdout",
     "output_type": "stream",
     "text": [
      "                     Sony mirrorless  Canon mirrorless  Nikon mirrorless  \\\n",
      "date                                                                       \n",
      "2016-02-01 00:00:00               53                34                20   \n",
      "2016-02-01 01:00:00               73                32                22   \n",
      "2016-02-01 02:00:00               71                34                24   \n",
      "2016-02-01 03:00:00               73                52                37   \n",
      "2016-02-01 04:00:00               92                43                29   \n",
      "\n",
      "                     isPartial  \n",
      "date                            \n",
      "2016-02-01 00:00:00      False  \n",
      "2016-02-01 01:00:00      False  \n",
      "2016-02-01 02:00:00      False  \n",
      "2016-02-01 03:00:00      False  \n",
      "2016-02-01 04:00:00      False  \n"
     ]
    }
   ],
   "source": [
    "print(df.head())"
   ]
  },
  {
   "cell_type": "code",
   "execution_count": null,
   "metadata": {},
   "outputs": [],
   "source": []
  }
 ],
 "metadata": {
  "kernelspec": {
   "display_name": "Python 3",
   "language": "python",
   "name": "python3"
  },
  "language_info": {
   "codemirror_mode": {
    "name": "ipython",
    "version": 3
   },
   "file_extension": ".py",
   "mimetype": "text/x-python",
   "name": "python",
   "nbconvert_exporter": "python",
   "pygments_lexer": "ipython3",
   "version": "3.8.2"
  }
 },
 "nbformat": 4,
 "nbformat_minor": 4
}
