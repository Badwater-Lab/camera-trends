{
 "nbformat": 4,
 "nbformat_minor": 2,
 "metadata": {
  "language_info": {
   "name": "python",
   "codemirror_mode": {
    "name": "ipython",
    "version": 3
   },
   "version": "3.8.2-final"
  },
  "orig_nbformat": 2,
  "file_extension": ".py",
  "mimetype": "text/x-python",
  "name": "python",
  "npconvert_exporter": "python",
  "pygments_lexer": "ipython3",
  "version": 3,
  "kernelspec": {
   "name": "python38264bitjupytervenv817deb8d0ced46ee94bdffd69d82211d",
   "display_name": "Python 3.8.2 64-bit ('jupyter': venv)"
  }
 },
 "cells": [
  {
   "cell_type": "code",
   "execution_count": 2,
   "metadata": {
    "tags": [
     "outputPrepend"
    ]
   },
   "outputs": [
    {
     "output_type": "stream",
     "name": "stdout",
     "text": "Åland Islands\nAland Islands\n['Afghanistan', 'AF', 'AFG', '004', 'ISO 3166-2:AF', 'Asia', 'Southern Asia', '', '142', '034', '']\n"
    }
   ],
   "source": [
    "import csv\n",
    "import unidecode\n",
    "\n",
    "with open('./data/ref/countries_info.csv', newline='') as csvfile:\n",
    "    country_ref = list(csv.reader(csvfile))\n",
    "\n",
    "# print(type(country_ref[0][0]))\n",
    "# print(country_ref[2])\n",
    "\n",
    "print(country_ref[2][0])\n",
    "\n",
    "for i in range(0, len(country_ref)):\n",
    "    for j in range(0, len(country_ref[0])):\n",
    "        country_ref[i][j] = unidecode.unidecode(country_ref[i][j])\n",
    "\n",
    "print(country_ref[2][0])\n",
    "print(country_ref[1])"
   ]
  }
 ]
}