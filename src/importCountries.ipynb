{
 "nbformat": 4,
 "nbformat_minor": 2,
 "metadata": {
  "language_info": {
   "name": "python",
   "codemirror_mode": {
    "name": "ipython",
    "version": 3
   },
   "version": "3.8.2-final"
  },
  "orig_nbformat": 2,
  "file_extension": ".py",
  "mimetype": "text/x-python",
  "name": "python",
  "npconvert_exporter": "python",
  "pygments_lexer": "ipython3",
  "version": 3,
  "kernelspec": {
   "name": "python38264bitjupytervenv817deb8d0ced46ee94bdffd69d82211d",
   "display_name": "Python 3.8.2 64-bit ('jupyter': venv)"
  }
 },
 "cells": [
  {
   "cell_type": "code",
   "execution_count": 24,
   "metadata": {},
   "outputs": [],
   "source": [
    "import numpy as np\n",
    "content = np.loadtxt('./data/ref/countries.txt', dtype='str', delimiter='|')"
   ]
  },
  {
   "cell_type": "code",
   "execution_count": 39,
   "metadata": {},
   "outputs": [
    {
     "output_type": "stream",
     "name": "stdout",
     "text": "<class 'numpy.ndarray'>\n[['Afghanistan' 'AF' 'EMEA']\n ['Åland Islands' 'AX' 'EMEA']\n ['Albania' 'AL' 'EMEA']\n ['Algeria' 'DZ' 'EMEA']\n ['American Samoa' 'AS' 'APAC']\n ['Andorra' 'AD' 'EMEA']\n ['Angola' 'AO' 'EMEA']\n ['Anguilla' 'AI' 'AMER']\n ['Antarctica' 'AQ' 'APAC']\n ['Antigua and Barbuda' 'AG' 'AMER']\n ['Argentina' 'AR' 'AMER']\n ['Armenia' 'AM' 'EMEA']\n ['Aruba' 'AW' 'AMER']\n ['Australia' 'AU' 'APAC']\n ['Austria' 'AT' 'EMEA']\n ['Azerbaijan' 'AZ' 'EMEA']\n ['Bahamas' 'BS' 'AMER']\n ['Bahrain' 'BH' 'EMEA']\n ['Bangladesh' 'BD' 'APAC']\n ['Barbados' 'BB' 'AMER']\n ['Belarus' 'BY' 'EMEA']\n ['Belgium' 'BE' 'EMEA']\n ['Belize' 'BZ' 'AMER']\n ['Benin' 'BJ' 'EMEA']\n ['Bermuda' 'BM' 'AMER']\n ['Bhutan' 'BT' 'APAC']\n ['Bolivia (Plurinational State of)' 'BO' 'AMER']\n ['Bonaire, Sint Eustatius and Saba' 'BQ' 'AMER']\n ['Bosnia and Herzegovina' 'BA' 'EMEA']\n ['Botswana' 'BW' 'EMEA']\n ['Bouvet Island' 'BV' 'EMEA']\n ['Brazil' 'BR' 'AMER']\n ['British Indian Ocean Territory' 'IO' 'APAC']\n ['Brunei Darussalam' 'BN' 'APAC']\n ['Bulgaria' 'BG' 'EMEA']\n ['Burkina Faso' 'BF' 'EMEA']\n ['Burundi' 'BI' 'EMEA']\n ['Cambodia' 'KH' 'APAC']\n ['Cameroon' 'CM' 'EMEA']\n ['Canada' 'CA' 'AMER']\n ['Cabo Verde' 'CV' 'EMEA']\n ['Cayman Islands' 'KY' 'AMER']\n ['Central African Republic' 'CF' 'EMEA']\n ['Chad' 'TD' 'EMEA']\n ['Chile' 'CL' 'AMER']\n ['China' 'CN' 'APAC']\n ['Christmas Island' 'CX' 'APAC']\n ['Cocos (Keeling) Islands' 'CC' 'APAC']\n ['Colombia' 'CO' 'AMER']\n ['Comoros' 'KM' 'EMEA']\n ['Congo (Democratic Republic of the)' 'CD' 'EMEA']\n ['Congo' 'CG' 'EMEA']\n ['Cook Islands' 'CK' 'APAC']\n ['Costa Rica' 'CR' 'AMER']\n ['Côte d’Ivoire' 'CI' 'EMEA']\n ['Croatia' 'HR' 'EMEA']\n ['Cuba' 'CU' 'AMER']\n ['Curaçao' 'CW' 'AMER']\n ['Cyprus' 'CY' 'EMEA']\n ['Czech Republic' 'CZ' 'EMEA']\n ['Denmark' 'DK' 'EMEA']\n ['Djibouti' 'DJ' 'EMEA']\n ['Dominica' 'DM' 'AMER']\n ['Dominican Republic' 'DO' 'AMER']\n ['Ecuador' 'EC' 'AMER']\n ['Egypt' 'EG' 'EMEA']\n ['El Salvador' 'SV' 'AMER']\n ['Equatorial Guinea' 'GQ' 'EMEA']\n ['Eritrea' 'ER' 'EMEA']\n ['Estonia' 'EE' 'EMEA']\n ['Ethiopia' 'ET' 'EMEA']\n ['Falkland Islands' 'FK' 'EMEA']\n ['Faroe Islands' 'FO' 'EMEA']\n ['Fiji' 'FJ' 'APAC']\n ['Finland' 'FI' 'EMEA']\n ['France' 'FR' 'EMEA']\n ['French Guiana' 'GF' 'AMER']\n ['French Polynesia' 'PF' 'APAC']\n ['French Southern Territories' 'TF' 'APAC']\n ['Gabon' 'GA' 'EMEA']\n ['Gambia' 'GM' 'EMEA']\n ['Georgia' 'GE' 'EMEA']\n ['Germany' 'DE' 'EMEA']\n ['Ghana' 'GH' 'EMEA']\n ['Gibraltar' 'GI' 'EMEA']\n ['Greece' 'GR' 'EMEA']\n ['Greenland' 'GL' 'EMEA']\n ['Grenada' 'GD' 'AMER']\n ['Guadeloupe' 'GP' 'AMER']\n ['Guam' 'GU' 'APAC']\n ['Guatemala' 'GT' 'AMER']\n ['Guernsey' 'GG' 'EMEA']\n ['Guinea' 'GN' 'EMEA']\n ['Guinea-Bissau' 'GW' 'EMEA']\n ['Guyana' 'GY' 'AMER']\n ['Haiti' 'HT' 'AMER']\n ['Heard Island and McDonald Islands' 'HM' 'APAC']\n ['Vatican City' 'VA' 'EMEA']\n ['Honduras' 'HN' 'AMER']\n ['Hong Kong' 'HK' 'APAC']\n ['Hungary' 'HU' 'EMEA']\n ['Iceland' 'IS' 'EMEA']\n ['India' 'IN' 'APAC']\n ['Indonesia' 'ID' 'APAC']\n ['Iran' 'IR' 'EMEA']\n ['Iraq' 'IQ' 'EMEA']\n ['Ireland' 'IE' 'EMEA']\n ['Isle of Man' 'IM' 'EMEA']\n ['Israel' 'IL' 'EMEA']\n ['Italy' 'IT' 'EMEA']\n ['Jamaica' 'JM' 'AMER']\n ['Japan' 'JP' 'APAC']\n ['Jersey' 'JE' 'EMEA']\n ['Jordan' 'JO' 'EMEA']\n ['Kazakhstan' 'KZ' 'EMEA']\n ['Kenya' 'KE' 'EMEA']\n ['Kiribati' 'KI' 'APAC']\n ['Korea (Democratic People’s Republic of)' 'KV' 'EMEA']\n ['Korea (Republic of)' 'KR' 'EMEA']\n ['Kuwait' 'KW' 'EMEA']\n ['Kyrgyzstan' 'KG' 'APAC']\n ['Laos' 'LA' 'APAC']\n ['Latvia' 'LV' 'EMEA']\n ['Lebanon' 'LB' 'EMEA']\n ['Lesotho' 'LS' 'EMEA']\n ['Liberia' 'LR' 'EMEA']\n ['Libya' 'LY' 'EMEA']\n ['Liechtenstein' 'LI' 'EMEA']\n ['Lithuania' 'LT' 'EMEA']\n ['Luxembourg' 'LU' 'EMEA']\n ['Macao' 'MO' 'APAC']\n ['Macedonia' 'MK' 'EMEA']\n ['Madagascar' 'MG' 'EMEA']\n ['Malawi' 'MW' 'EMEA']\n ['Malaysia' 'MY' 'APAC']\n ['Maldives' 'MV' 'APAC']\n ['Mali' 'ML' 'EMEA']\n ['Malta' 'MT' 'EMEA']\n ['Marshall Islands' 'MH' 'APAC']\n ['Martinique' 'MQ' 'AMER']\n ['Mauritania' 'MR' 'EMEA']\n ['Mauritius' 'MU' 'EMEA']\n ['Mayotte' 'YT' 'EMEA']\n ['Mexico' 'MX' 'AMER']\n ['Micronesia' 'FM' 'APAC']\n ['Moldova' 'MD' 'EMEA']\n ['Monaco' 'MC' 'EMEA']\n ['Mongolia' 'MN' 'APAC']\n ['Montenegro' 'ME' 'EMEA']\n ['Montserrat' 'MS' 'AMER']\n ['Morocco' 'MA' 'EMEA']\n ['Mozambique' 'MZ' 'EMEA']\n ['Myanmar' 'MM' 'APAC']\n ['Namibia' 'NA' 'EMEA']\n ['Nauru' 'NR' 'APAC']\n ['Nepal' 'NP' 'APAC']\n ['Netherlands' 'NL' 'EMEA']\n ['New Caledonia' 'NC' 'APAC']\n ['New Zealand' 'NZ' 'APAC']\n ['Nicaragua' 'NI' 'AMER']\n ['Niger' 'NE' 'EMEA']\n ['Nigeria' 'NG' 'EMEA']\n ['Niue' 'NU' 'APAC']\n ['Norfolk Island' 'NF' 'APAC']\n ['Northern Mariana Islands' 'MP' 'APAC']\n ['Norway' 'NO' 'EMEA']\n ['Oman' 'OM' 'EMEA']\n ['Pakistan' 'PK' 'APAC']\n ['Palau' 'PW' 'APAC']\n ['Palestine' 'PS' 'EMEA']\n ['Panama' 'PA' 'AMER']\n ['Papua New Guinea' 'PG' 'APAC']\n ['Paraguay' 'PY' 'AMER']\n ['Peru' 'PE' 'AMER']\n ['Philippines' 'PH' 'APAC']\n ['Pitcairn' 'PN' 'APAC']\n ['Poland' 'PL' 'EMEA']\n ['Portugal' 'PT' 'EMEA']\n ['Puerto Rico' 'PR' 'AMER']\n ['Qatar' 'QA' 'EMEA']\n ['Réunion' 'RE' 'EMEA']\n ['Romania' 'RO' 'EMEA']\n ['Russia' 'RU' 'EMEA']\n ['Rwanda' 'RW' 'EMEA']\n ['Saint Barthélemy' 'BL' 'AMER']\n ['Saint Helena' 'SH' 'EMEA']\n ['Saint Kitts And Nevis' 'KN' 'AMER']\n ['Saint Lucia' 'LC' 'AMER']\n ['Saint Martin' 'MF' 'AMER']\n ['Saint Pierre and Miquelon' 'PM' 'AMER']\n ['Saint Vincent and The Grenadines' 'VC' 'AMER']\n ['Samoa' 'WS' 'APAC']\n ['San Marino' 'SM' 'EMEA']\n ['Sao Tome and Principe' 'ST' 'EMEA']\n ['Saudi Arabia' 'SA' 'EMEA']\n ['Senegal' 'SN' 'EMEA']\n ['Serbia' 'RS' 'EMEA']\n ['Seychelles' 'SC' 'EMEA']\n ['Sierra Leone' 'SL' 'EMEA']\n ['Singapore' 'SG' 'APAC']\n ['Sint Maarten (Dutch part)' 'SX' 'AMER']\n ['Slovakia' 'SK' 'EMEA']\n ['Slovenia' 'SI' 'EMEA']\n ['Solomon Islands' 'SB' 'APAC']\n ['Somalia' 'SO' 'EMEA']\n ['South Africa' 'ZA' 'EMEA']\n ['South Georgia and the South Sandwich Islands' 'GS' 'EMEA']\n ['South Sudan' 'SS' 'APAC']\n ['Spain' 'ES' 'EMEA']\n ['Sri Lanka' 'LK' 'APAC']\n ['Sudan' 'SD' 'EMEA']\n ['Suriname' 'SR' 'AMER']\n ['Svalbard' 'SJ' 'EMEA']\n ['Swaziland' 'SZ' 'EMEA']\n ['Sweden' 'SE' 'EMEA']\n ['Switzerland' 'CH' 'EMEA']\n ['Syria' 'SY' 'EMEA']\n ['Taiwan' 'TW' 'APAC']\n ['Tajikistan' 'TJ' 'APAC']\n ['Tanzania' 'TZ' 'EMEA']\n ['Thailand' 'TH' 'APAC']\n ['Timor-Leste' 'TL' 'APAC']\n ['Togo' 'TG' 'EMEA']\n ['Tokelau' 'TK' 'APAC']\n ['Tonga' 'TO' 'APAC']\n ['Trinidad and Tobago' 'TT' 'AMER']\n ['Tunisia' 'TN' 'EMEA']\n ['Turkey' 'TR' 'EMEA']\n ['Turkmenistan' 'TM' 'APAC']\n ['Turks and Caicos Islands' 'TC' 'AMER']\n ['Tuvalu' 'TV' 'APAC']\n ['Uganda' 'UG' 'EMEA']\n ['Ukraine' 'UA' 'EMEA']\n ['United Arab Emirates' 'AE' 'EMEA']\n ['United Kingdom' 'GB' 'EMEA']\n ['United States' 'US' 'AMER']\n ['United States Minor Outlying Islands' 'UM' 'APAC']\n ['Uruguay' 'UY' 'AMER']\n ['Uzbekistan' 'UZ' 'APAC']\n ['Vanuatu' 'VU' 'APAC']\n ['Venezuela' 'VE' 'AMER']\n ['Viet Nam' 'VN' 'APAC']\n ['Virgin Islands (British)' 'VG' 'AMER']\n ['Virgin Islands (U.S.)' 'VI' 'AMER']\n ['Wallis and Futuna' 'WF' 'APAC']\n ['Western Sahara' 'EH' 'EMEA']\n ['Yemen' 'YE' 'EMEA']\n ['Zambia' 'ZM' 'EMEA']\n ['Zimbabwe' 'ZW' 'EMEA']]\n"
    }
   ],
   "source": [
    "print(type(content))\n",
    "print(content[:,:])\n",
    "# print(content[0,2])"
   ]
  },
  {
   "cell_type": "code",
   "execution_count": null,
   "metadata": {},
   "outputs": [],
   "source": [
    "content.replace('|',',')"
   ]
  },
  {
   "cell_type": "code",
   "execution_count": null,
   "metadata": {},
   "outputs": [],
   "source": []
  }
 ]
}