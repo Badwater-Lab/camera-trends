{
 "cells": [
  {
   "cell_type": "code",
   "execution_count": 1,
   "metadata": {},
   "outputs": [],
   "source": [
    "import country_converter as coco\n",
    "import pandas as pd\n",
    "import numpy as np\n",
    "import csv"
   ]
  },
  {
   "cell_type": "code",
   "execution_count": null,
   "metadata": {},
   "outputs": [],
   "source": [
    "cc = coco.CountryConverter()"
   ]
  },
  {
   "cell_type": "code",
   "execution_count": 9,
   "metadata": {},
   "outputs": [],
   "source": [
    "Africa_Top10 = ['Nigeria', 'Ethiopia', 'Egypt', 'Democratic Republic of the Congo', \\\n",
    "               'South Africa', 'Tanzania', 'Kenya', 'Algeria', 'Sudan', 'Morocco']\n",
    "Europe_Top10 = ['Russia', 'Germany', 'France', 'United Kingdom', 'Italy', 'Spain', \\\n",
    "                'Poland', 'Ukraine', 'Romania', 'Kazakhstan']\n",
    "MidEast_Top10 = ['United Arab Emirates', 'Saudi Arabia', 'Iran', 'Israel', 'Iraq', \\\n",
    "                 'Turkey','Egypt', 'Syria', 'Jordan', 'Yemen']\n",
    "NorthAmerica_Top = ['Canada', 'United States', 'Mexico']\n",
    "SouthAmerica_Top10 = ['Brazil', 'Colombia', 'Argentina', 'Peru', 'Venezuela', 'Chile', \\\n",
    "                     'Ecuador', 'Bolivia', 'Paraguay', 'Uruguay']\n",
    "Asia_Top10 = ['China', 'India', 'Indonesia', 'Pakistan', 'Bangladesh', 'Japan', \\\n",
    "             'Philippines', 'Vietnam', 'Thailand', 'Myanmar', 'South Korea']\n",
    "Oceania_Top = ['Australia', 'Papua New Guinea', 'New Zealand']\n",
    "\n",
    "# Misc\n",
    "Top_Populations = ['China', 'India', 'USA', 'Indonesia', 'Pakistan', 'Brazil', 'Nigeria', \\\n",
    "          'Bangladesh', 'Russia', 'Mexico', 'Japan']"
   ]
  },
  {
   "cell_type": "code",
   "execution_count": 10,
   "metadata": {},
   "outputs": [],
   "source": [
    "Americas_full_names = NorthAmerica_Top + SouthAmerica_Top10\n",
    "EMEA_full_names = Europe_Top10 + MidEast_Top10 + Africa_Top10\n",
    "APAC_full_names = Asia_Top10 + Oceania"
   ]
  },
  {
   "cell_type": "code",
   "execution_count": 11,
   "metadata": {},
   "outputs": [],
   "source": [
    "Americas_standard_names = cc.convert(names=Americas_full_names, to='name_short')\n",
    "EMEA_standard_names = cc.convert(names=EMEA_full_names, to='name_short')\n",
    "APAC_standard_names = cc.convert(names=APAC_full_names, to='name_short')"
   ]
  },
  {
   "cell_type": "code",
   "execution_count": 13,
   "metadata": {},
   "outputs": [],
   "source": [
    "Americas_iso2 = cc.convert(names=Americas_standard_names, to='ISO2')\n",
    "EMEA_iso2 = cc.convert(names=EMEA_standard_names, to='ISO2')\n",
    "APAC_iso2 = cc.convert(names=APAC_standard_names, to='ISO2')"
   ]
  },
  {
   "cell_type": "code",
   "execution_count": 33,
   "metadata": {},
   "outputs": [],
   "source": [
    "geo_dict = {'Americas': Americas_iso2, 'EMEA': EMEA_iso2, \\\n",
    "                'APAC': APAC_iso2}"
   ]
  },
  {
   "cell_type": "code",
   "execution_count": 35,
   "metadata": {},
   "outputs": [],
   "source": [
    "with open('geoInfo.csv', 'w', newline='') as myfile:\n",
    "     wr = csv.writer(myfile)\n",
    "     for key, value in geo_dict.items():\n",
    "       wr.writerow([key, value])"
   ]
  },
  {
   "cell_type": "code",
   "execution_count": 36,
   "metadata": {},
   "outputs": [],
   "source": [
    "with open('geoInfo.csv') as csv_file:\n",
    "    reader = csv.reader(csv_file)\n",
    "    mydict = dict(reader)"
   ]
  }
 ],
 "metadata": {
  "kernelspec": {
   "display_name": "Python 3",
   "language": "python",
   "name": "python3"
  },
  "language_info": {
   "codemirror_mode": {
    "name": "ipython",
    "version": 3
   },
   "file_extension": ".py",
   "mimetype": "text/x-python",
   "name": "python",
   "nbconvert_exporter": "python",
   "pygments_lexer": "ipython3",
   "version": "3.7.7"
  }
 },
 "nbformat": 4,
 "nbformat_minor": 4
}
