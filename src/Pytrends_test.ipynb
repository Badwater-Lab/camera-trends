{
 "cells": [
  {
   "cell_type": "code",
   "execution_count": 1,
   "metadata": {},
   "outputs": [],
   "source": [
    "import numpy as np\n",
    "import pandas as pd\n",
    "import matplotlib.pyplot as plt\n",
    "import time\n",
    "import pickle\n",
    "from pytrends.request import TrendReq\n",
    "pytrend = TrendReq()\n",
    "\n",
    "kw_list = ['\"Canon\" \"mirrorless\"', '\"Nikon\" \"mirrorless\"', '\"Sony\" \"mirrorless\"']"
   ]
  },
  {
   "cell_type": "code",
   "execution_count": 2,
   "metadata": {
    "scrolled": true
   },
   "outputs": [
    {
     "name": "stdout",
     "output_type": "stream",
     "text": [
      "2017\n",
      "2\n",
      "28\n",
      "Head:\n",
      "             geoName  \"Canon\" \"mirrorless\"  \"Nikon\" \"mirrorless\"  \\\n",
      "0        Afghanistan                     0                     0   \n",
      "1            Albania                     0                     0   \n",
      "2            Algeria                     0                     0   \n",
      "3     American Samoa                     0                     0   \n",
      "4            Andorra                     0                     0   \n",
      "5             Angola                     0                     0   \n",
      "6           Anguilla                     0                     0   \n",
      "7         Antarctica                     0                     0   \n",
      "8  Antigua & Barbuda                     0                     0   \n",
      "9          Argentina                     0                    68   \n",
      "\n",
      "   \"Sony\" \"mirrorless\"  \n",
      "0                    0  \n",
      "1                    0  \n",
      "2                    0  \n",
      "3                    0  \n",
      "4                    0  \n",
      "5                    0  \n",
      "6                    0  \n",
      "7                    0  \n",
      "8                    0  \n",
      "9                   32  \n",
      "..............................\n",
      "Tail:\n",
      "             geoName  \"Canon\" \"mirrorless\"  \"Nikon\" \"mirrorless\"  \\\n",
      "240          Vanuatu                     0                     0   \n",
      "241     Vatican City                     0                     0   \n",
      "242        Venezuela                     0                     0   \n",
      "243          Vietnam                    28                    22   \n",
      "244  Wallis & Futuna                     0                     0   \n",
      "245   Western Sahara                     0                     0   \n",
      "246            Yemen                     0                     0   \n",
      "247           Zambia                     0                     0   \n",
      "248         Zimbabwe                     0                     0   \n",
      "249    Åland Islands                     0                     0   \n",
      "\n",
      "     \"Sony\" \"mirrorless\"  \n",
      "240                    0  \n",
      "241                    0  \n",
      "242                    0  \n",
      "243                   50  \n",
      "244                    0  \n",
      "245                    0  \n",
      "246                    0  \n",
      "247                    0  \n",
      "248                    0  \n",
      "249                    0  \n",
      "None\n"
     ]
    }
   ],
   "source": [
    "class Trend:\n",
    "    # Required:\n",
    "        # import pandas as pd\n",
    "        # import pickle\n",
    "        # import matplotlib.pyplot as plt\n",
    "        # from pytrends.request import TrendReq\n",
    "        # pytrend = TrendReq()\n",
    "        \n",
    "    def __init__(self, year, month, kwList):\n",
    "        self.year = year\n",
    "        self.month = month\n",
    "        self.kwList = kwList\n",
    "\n",
    "    def monthEndDate(self):\n",
    "        switcher = {\n",
    "            1: 31,\n",
    "            2: 28,\n",
    "            3: 31,\n",
    "            4: 30,\n",
    "            5: 31,\n",
    "            6: 30,\n",
    "            7: 31,\n",
    "            8: 31,\n",
    "            9: 30,\n",
    "            10: 31,\n",
    "            11: 30,\n",
    "            12: 31,\n",
    "        }\n",
    "        if ((self.year%4 == 0) and (self.month == 2)):\n",
    "            switcher[2] = 29\n",
    "        return switcher.get(self.month)\n",
    "\n",
    "    def timeframe(self):\n",
    "        date_start = str(self.year) + '-' + str(self.month) + '-01'\n",
    "        date_end = str(self.year) + '-' + str(self.month) + \"-\" + str(self.monthEndDate())\n",
    "        return date_start + ' ' + date_end\n",
    "\n",
    "    def crawl(self):\n",
    "        pytrend.build_payload(self.kwList, timeframe=self.timeframe())\n",
    "        self.trend = (pytrend.interest_by_region()).reset_index()\n",
    "        \n",
    "    def toPickle(self, keyword, path):\n",
    "        monthStr = '0' + str(self.month) if self.month < 10 else str(self.month)\n",
    "        fileName = str(self.year) + '-' + monthStr + '-' + str(keyword)\n",
    "        pathName = str(path) + '/' + fileName + '.pkl'\n",
    "        with open(pathName, 'wb') as f:\n",
    "            pickle.dump(self.trend, f)\n",
    "\n",
    "    def preview(self):\n",
    "        print(\"Head:\")\n",
    "        print(self.trend.head(10))\n",
    "        print(\"..............................\")\n",
    "        print(\"Tail:\")\n",
    "        print(self.trend.tail(10))\n",
    "    \n",
    "    def hist(self):\n",
    "        plt.figure(figsize=(8,6))\n",
    "        for i in range(1, len((self.trend).columns)):\n",
    "            plt.hist((self.trend).iloc[:, i], range=(0,100), bins=10, alpha=0.3, label=(self.trend).columns[i])\n",
    "        plt.title(str(self.year) + '-' + str(self.month))\n",
    "        plt.ylabel('Frequency')\n",
    "        plt.legend()\n",
    "        plt.show()\n",
    "        \n",
    "    def scatter(self):\n",
    "        plt.figure(figsize=(8,6))\n",
    "        for i in range(1, len((self.trend).columns)):\n",
    "            plt.scatter(x=(self.trend).index, y=(self.trend).iloc[:, i], s=4, alpha=0.5, label=(self.trend).columns[i])\n",
    "        plt.title(str(self.year) + '-' + str(self.month))\n",
    "        plt.ylabel('Trending index')\n",
    "        plt.legend()\n",
    "        plt.show()\n",
    "\n",
    "\n",
    "t1 = Trend(2017, 2, kw_list)\n",
    "print(t1.year)\n",
    "print(t1.month)\n",
    "print(t1.monthEndDate())\n",
    "t1.crawl()\n",
    "print(t1.preview())\n",
    "# t1.toPickle('test2', 'data/raw')"
   ]
  },
  {
   "cell_type": "code",
   "execution_count": 3,
   "metadata": {
    "scrolled": false
   },
   "outputs": [
    {
     "data": {
      "image/png": "[encoded data removed]",
      "text/plain": [
       "<matplotlib.figure.Figure at 0x7f221c58b160>"
      ]
     },
     "metadata": {
      "needs_background": "light"
     },
     "output_type": "display_data"
    }
   ],
   "source": [
    "t1.hist()"
   ]
  },
  {
   "cell_type": "code",
   "execution_count": 4,
   "metadata": {},
   "outputs": [
    {
     "data": {
      "image/png": "[encoded data removed]",
      "text/plain": [
       "<matplotlib.figure.Figure at 0x7f221beded30>"
      ]
     },
     "metadata": {
      "needs_background": "light"
     },
     "output_type": "display_data"
    }
   ],
   "source": [
    "t1.scatter()"
   ]
  },
  {
   "cell_type": "code",
   "execution_count": null,
   "metadata": {},
   "outputs": [],
   "source": [
    "years = np.arange(2015, 2016)\n",
    "months = np.arange(1, 4)\n",
    "for y in years:\n",
    "    for m in months:\n",
    "        t = Trend(y, m, kw_list)\n",
    "        t.crawl()\n",
    "        t.toPickle('testBatch4', 'data/raw/test')\n",
    "        t.scatter()\n",
    "        print(str(y) + '-' + str(m) + ': DONE')\n",
    "        time.sleep(0.3)"
   ]
  },
  {
   "cell_type": "code",
   "execution_count": null,
   "metadata": {},
   "outputs": [],
   "source": [
    "print(str(2006) + '-' +str(1))"
   ]
  },
  {
   "cell_type": "code",
   "execution_count": null,
   "metadata": {},
   "outputs": [],
   "source": [
    "# 2017-02-test2.pkl\n",
    "with open('data/raw/2016-2-test1.pkl', 'rb') as f:\n",
    "    myobject = pickle.load(f)"
   ]
  },
  {
   "cell_type": "code",
   "execution_count": null,
   "metadata": {},
   "outputs": [],
   "source": [
    "myobject.iloc[:,1]"
   ]
  },
  {
   "cell_type": "code",
   "execution_count": null,
   "metadata": {
    "scrolled": true
   },
   "outputs": [],
   "source": [
    "print(myobject.head(250))"
   ]
  },
  {
   "cell_type": "code",
   "execution_count": null,
   "metadata": {},
   "outputs": [],
   "source": [
    "import matplotlib.pyplot as plt\n",
    "plt.figure(figsize=(10,8))\n",
    "plt.hist(myobject['Sony mirrorless'], bins=100, alpha=0.3, label='Sony')\n",
    "plt.hist(myobject['Canon mirrorless'], bins=100, alpha=0.3, label='Canon')\n",
    "plt.hist(myobject['Nikon mirrorless'], bins=100, alpha=0.3, label='Nikon')\n",
    "plt.ylabel('Frequency')\n",
    "plt.legend()\n",
    "plt.show()"
   ]
  },
  {
   "cell_type": "code",
   "execution_count": null,
   "metadata": {},
   "outputs": [],
   "source": [
    "year = 2019\n",
    "month = 1\n",
    "monthEndDate = str(28)\n",
    "\n",
    "date_start = str(year) + '-' + str(month) + '-01'\n",
    "date_end = str(year) + '-' + str(month) + \"-\" + monthEndDate\n",
    "\n",
    "# date_start = year + '-' + month + '-01'\n",
    "# date_end = year + '-' + month + '-31'\n",
    "tf = date_start + ' ' + date_end\n",
    "print(tf)\n",
    "\n",
    "pytrend.build_payload(kw_list, timeframe=tf)"
   ]
  },
  {
   "cell_type": "code",
   "execution_count": null,
   "metadata": {},
   "outputs": [],
   "source": [
    "# Interest by Region\n",
    "df_region = (pytrend.interest_by_region()).reset_index()"
   ]
  },
  {
   "cell_type": "code",
   "execution_count": null,
   "metadata": {},
   "outputs": [],
   "source": [
    "df_region = df_region.reset_index()\n",
    "print(df_region.shape)\n",
    "print('..............................')\n",
    "print(df_region.head(10))\n",
    "print('..............................')\n",
    "print(df_region.tail(10))"
   ]
  },
  {
   "cell_type": "code",
   "execution_count": null,
   "metadata": {},
   "outputs": [],
   "source": [
    "print(df_region.index)\n",
    "print(df_region.columns)\n",
    "print(df_region.iloc[:,1])"
   ]
  }
 ],
 "metadata": {
  "kernelspec": {
   "display_name": "Python 3",
   "language": "python",
   "name": "python3"
  },
  "language_info": {
   "codemirror_mode": {
    "name": "ipython",
    "version": 3
   },
   "file_extension": ".py",
   "mimetype": "text/x-python",
   "name": "python",
   "nbconvert_exporter": "python",
   "pygments_lexer": "ipython3",
   "version": "3.6.9"
  }
 },
 "nbformat": 4,
 "nbformat_minor": 4
}
