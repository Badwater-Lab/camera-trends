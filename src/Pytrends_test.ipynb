{
 "cells": [
  {
   "cell_type": "code",
   "execution_count": null,
   "metadata": {},
   "outputs": [],
   "source": [
    "import numpy as np\n",
    "import pandas as pd\n",
    "import matplotlib.pyplot as plt\n",
    "import time\n",
    "import pickle\n",
    "from pytrends.request import TrendReq\n",
    "pytrend = TrendReq()\n",
    "\n",
    "kw_list = ['\"Canon\" \"mirrorless\"', '\"Nikon\" \"mirrorless\"', '\"Sony\" \"mirrorless\"']"
   ]
  },
  {
   "cell_type": "code",
   "execution_count": null,
   "metadata": {
    "scrolled": true
   },
   "outputs": [],
   "source": [
    "class Trend:\n",
    "    # Required:\n",
    "        # import pandas as pd\n",
    "        # import pickle\n",
    "        # import matplotlib.pyplot as plt\n",
    "        # from pytrends.request import TrendReq\n",
    "        # pytrend = TrendReq()\n",
    "        \n",
    "    def __init__(self, year, month, kwList):\n",
    "        self.year = year\n",
    "        self.month = month\n",
    "        self.kwList = kwList\n",
    "\n",
    "    def monthEndDate(self):\n",
    "        switcher = {\n",
    "            1: 31,\n",
    "            2: 28,\n",
    "            3: 31,\n",
    "            4: 30,\n",
    "            5: 31,\n",
    "            6: 30,\n",
    "            7: 31,\n",
    "            8: 31,\n",
    "            9: 30,\n",
    "            10: 31,\n",
    "            11: 30,\n",
    "            12: 31,\n",
    "        }\n",
    "        if ((self.year%4 == 0) and (self.month == 2)):\n",
    "            switcher[2] = 29\n",
    "        return switcher.get(self.month)\n",
    "\n",
    "    def timeframe(self):\n",
    "        date_start = f'{self.year}-{self.month}-01'\n",
    "        date_end = f'{self.year}-{self.month}-{self.monthEndDate()}'\n",
    "        return f'{date_start} {date_end}'\n",
    "\n",
    "    def crawl(self):\n",
    "        pytrend.build_payload(self.kwList, timeframe=self.timeframe())\n",
    "        self.trend = (pytrend.interest_by_region()).reset_index()\n",
    "        \n",
    "    def toPickle(self, keyword, path):\n",
    "        monthStr = f'0{self.month}' if self.month < 10 else f'{self.month}'\n",
    "        fileName = f'{self.year}-{monthStr}-{keyword}'\n",
    "        pathName = f'{path}/{fileName}.pkl'\n",
    "        with open(pathName, 'wb') as f:\n",
    "            pickle.dump(self.trend, f)\n",
    "\n",
    "    def preview(self):\n",
    "        print(\"Head:\")\n",
    "        print(self.trend.head(10))\n",
    "        print(\"..............................\")\n",
    "        print(\"Tail:\")\n",
    "        print(self.trend.tail(10))\n",
    "    \n",
    "    def hist(self):\n",
    "        plt.figure(figsize=(8,6))\n",
    "        for i in range(1, len((self.trend).columns)):\n",
    "            plt.hist((self.trend).iloc[:, i], range=(0,100), bins=10, alpha=0.3, label=(self.trend).columns[i])\n",
    "        plt.title(f'{self.year}-{self.month}')\n",
    "        plt.ylabel('Frequency')\n",
    "        plt.legend()\n",
    "        plt.show()\n",
    "        \n",
    "    def scatter(self):\n",
    "        plt.figure(figsize=(8,6))\n",
    "        for i in range(1, len((self.trend).columns)):\n",
    "            plt.scatter(x=(self.trend).index, y=(self.trend).iloc[:, i], s=4, alpha=0.5, label=(self.trend).columns[i])\n",
    "        plt.title(f'{self.year}-{self.month}')\n",
    "        plt.ylabel('Trending index')\n",
    "        plt.legend()\n",
    "        plt.show()\n",
    "\n",
    "\n",
    "t1 = Trend(2017, 2, kw_list)\n",
    "print(t1.year)\n",
    "print(t1.month)\n",
    "print(t1.monthEndDate())\n",
    "t1.crawl()\n",
    "print(t1.preview())\n",
    "# t1.toPickle('test2', 'data/raw')"
   ]
  },
  {
   "cell_type": "code",
   "execution_count": null,
   "metadata": {
    "scrolled": false
   },
   "outputs": [],
   "source": [
    "t1.hist()"
   ]
  },
  {
   "cell_type": "code",
   "execution_count": null,
   "metadata": {},
   "outputs": [],
   "source": [
    "t1.scatter()"
   ]
  },
  {
   "cell_type": "code",
   "execution_count": null,
   "metadata": {},
   "outputs": [],
   "source": [
    "years = np.arange(2015, 2016)\n",
    "months = np.arange(1, 4)\n",
    "for y in years:\n",
    "    for m in months:\n",
    "        t = Trend(y, m, kw_list)\n",
    "        t.crawl()\n",
    "        t.toPickle('testBatch4', 'data/raw/test')\n",
    "        t.scatter()\n",
    "        print(f'{y}-{m}: DONE')\n",
    "        time.sleep(0.3)"
   ]
  },
  {
   "cell_type": "code",
   "execution_count": null,
   "metadata": {
    "tags": []
   },
   "outputs": [],
   "source": [
    "print('2006-1')"
   ]
  },
  {
   "cell_type": "code",
   "execution_count": null,
   "metadata": {},
   "outputs": [],
   "source": [
    "# 2017-02-test2.pkl\n",
    "with open('data/raw/2016-2-test1.pkl', 'rb') as f:\n",
    "    myobject = pickle.load(f)"
   ]
  },
  {
   "cell_type": "code",
   "execution_count": null,
   "metadata": {},
   "outputs": [],
   "source": [
    "myobject.iloc[:,1]"
   ]
  },
  {
   "cell_type": "code",
   "execution_count": null,
   "metadata": {
    "scrolled": true
   },
   "outputs": [],
   "source": [
    "print(myobject.head(250))"
   ]
  },
  {
   "cell_type": "code",
   "execution_count": null,
   "metadata": {},
   "outputs": [],
   "source": [
    "import matplotlib.pyplot as plt\n",
    "plt.figure(figsize=(10,8))\n",
    "plt.hist(myobject['Sony mirrorless'], bins=100, alpha=0.3, label='Sony')\n",
    "plt.hist(myobject['Canon mirrorless'], bins=100, alpha=0.3, label='Canon')\n",
    "plt.hist(myobject['Nikon mirrorless'], bins=100, alpha=0.3, label='Nikon')\n",
    "plt.ylabel('Frequency')\n",
    "plt.legend()\n",
    "plt.show()"
   ]
  },
  {
   "cell_type": "code",
   "execution_count": null,
   "metadata": {
    "tags": []
   },
   "outputs": [],
   "source": [
    "year = 2019\n",
    "month = 1\n",
    "monthEndDate = str(28)\n",
    "\n",
    "date_start = f'{year}-{month}-01'\n",
    "date_end = f'{year}-{month}-{monthEndDate}'\n",
    "\n",
    "# date_start = year + '-' + month + '-01'\n",
    "# date_end = year + '-' + month + '-31'\n",
    "tf = f'{date_start} {date_end}'\n",
    "print(tf)\n",
    "\n",
    "pytrend.build_payload(kw_list, timeframe=tf)"
   ]
  },
  {
   "cell_type": "code",
   "execution_count": null,
   "metadata": {},
   "outputs": [],
   "source": [
    "# Interest by Region\n",
    "df_region = (pytrend.interest_by_region()).reset_index()"
   ]
  },
  {
   "cell_type": "code",
   "execution_count": null,
   "metadata": {},
   "outputs": [],
   "source": [
    "df_region = df_region.reset_index()\n",
    "print(df_region.shape)\n",
    "print('..............................')\n",
    "print(df_region.head(10))\n",
    "print('..............................')\n",
    "print(df_region.tail(10))"
   ]
  },
  {
   "cell_type": "code",
   "execution_count": null,
   "metadata": {},
   "outputs": [],
   "source": [
    "print(df_region.index)\n",
    "print(df_region.columns)\n",
    "print(df_region.iloc[:,1])"
   ]
  }
 ],
 "metadata": {
  "kernelspec": {
   "display_name": "Python 3",
   "language": "python",
   "name": "python3"
  },
  "language_info": {
   "codemirror_mode": {
    "name": "ipython",
    "version": 3
   },
   "file_extension": ".py",
   "mimetype": "text/x-python",
   "name": "python",
   "nbconvert_exporter": "python",
   "pygments_lexer": "ipython3",
   "version": "3.7.5-final"
  }
 },
 "nbformat": 4,
 "nbformat_minor": 4
}