{
 "cells": [
  {
   "cell_type": "code",
   "execution_count": 29,
   "metadata": {},
   "outputs": [],
   "source": [
    "import pandas as pd\n",
    "import csv\n",
    "from pytrends.request import TrendReq"
   ]
  },
  {
   "cell_type": "code",
   "execution_count": 30,
   "metadata": {},
   "outputs": [],
   "source": [
    "pytrend = TrendReq()"
   ]
  },
  {
   "cell_type": "code",
   "execution_count": 31,
   "metadata": {},
   "outputs": [],
   "source": [
    "with open('geoInfo.csv') as csv_file:\n",
    "    reader = csv.reader(csv_file)\n",
    "    geo_dict = dict(reader)"
   ]
  },
  {
   "cell_type": "code",
   "execution_count": 32,
   "metadata": {},
   "outputs": [],
   "source": [
    "Americas = eval(geo_dict['Americas'])\n",
    "EMEA = eval(geo_dict['EMEA'])\n",
    "APAC = eval(geo_dict['APAC'])"
   ]
  },
  {
   "cell_type": "code",
   "execution_count": null,
   "metadata": {},
   "outputs": [],
   "source": [
    "Americas"
   ]
  },
  {
   "cell_type": "code",
   "execution_count": 33,
   "metadata": {},
   "outputs": [],
   "source": [
    "kw_list = ['Sony mirrorless', 'Canon mirrorless', 'Nikon mirrorless']\n",
    "pytrend.build_payload(kw_list, timeframe='2020-01-01 2020-03-31')"
   ]
  },
  {
   "cell_type": "code",
   "execution_count": null,
   "metadata": {},
   "outputs": [],
   "source": [
    "# df = pytrend.get_historical_interest(kw_list, year_start=2006, month_start=1, day_start=1, hour_start=0, year_end=2020, month_end=4, day_end=1, hour_end=0, cat=0, geo='CA,US,MX', gprop='', sleep=30)\n",
    "df = pytrend.get_historical_interest(kw_list, cat=0, geo='', gprop='', sleep=30)\n",
    "df.head(10)"
   ]
  },
  {
   "cell_type": "code",
   "execution_count": 34,
   "metadata": {},
   "outputs": [],
   "source": [
    "# Interest by Region\n",
    "df_region = pytrend.interest_by_region()"
   ]
  },
  {
   "cell_type": "code",
   "execution_count": 46,
   "metadata": {},
   "outputs": [
    {
     "output_type": "stream",
     "name": "stdout",
     "text": "Sony mirrorless  Canon mirrorless  Nikon mirrorless\ngeoName                                                               \nAfghanistan                      0                 0                 0\nAlbania                          0                 0                 0\nAlgeria                          0                 0                 0\nAmerican Samoa                   0                 0                 0\nAndorra                          0                 0                 0\nAngola                           0                 0                 0\nAnguilla                         0                 0                 0\nAntarctica                       0                 0                 0\nAntigua & Barbuda                0                 0                 0\nArgentina                       43                38                19\n..............................\n                 Sony mirrorless  Canon mirrorless  Nikon mirrorless\ngeoName                                                             \nVanuatu                        0                 0                 0\nVatican City                   0                 0                 0\nVenezuela                      0                 0                 0\nVietnam                       26                54                20\nWallis & Futuna                0                 0                 0\nWestern Sahara                 0                 0                 0\nYemen                          0                 0                 0\nZambia                         0                 0                 0\nZimbabwe                       0                 0                 0\nÅland Islands                  0                 0                 0\n..............................\n(250, 3)\n"
    }
   ],
   "source": [
    "print(df_region.head(10))\n",
    "print('..............................')\n",
    "print(df_region.tail(10))\n",
    "print('..............................')\n",
    "print(df_region.shape)"
   ]
  },
  {
   "cell_type": "code",
   "execution_count": 47,
   "metadata": {},
   "outputs": [],
   "source": [
    "kw_list = ['Sony mirrorless', 'Canon mirrorless', 'Nikon mirrorless']\n",
    "pytrend.build_payload(kw_list, timeframe='2006-01-01 2006-03-31')\n",
    "df_region = pytrend.interest_by_region()"
   ]
  },
  {
   "cell_type": "code",
   "execution_count": 48,
   "metadata": {},
   "outputs": [
    {
     "output_type": "stream",
     "name": "stdout",
     "text": "Sony mirrorless  Canon mirrorless  Nikon mirrorless\ngeoName                                                               \nAfghanistan                      0                 0                 0\nAlbania                          0                 0                 0\nAlgeria                          0                 0                 0\nAmerican Samoa                   0                 0                 0\nAndorra                          0                 0                 0\nAngola                           0                 0                 0\nAnguilla                         0                 0                 0\nAntarctica                       0                 0                 0\nAntigua & Barbuda                0                 0                 0\nArgentina                        0                 0                 0\n..............................\n                 Sony mirrorless  Canon mirrorless  Nikon mirrorless\ngeoName                                                             \nVanuatu                        0                 0                 0\nVatican City                   0                 0                 0\nVenezuela                      0                 0                 0\nVietnam                        0                 0                 0\nWallis & Futuna                0                 0                 0\nWestern Sahara                 0                 0                 0\nYemen                          0                 0                 0\nZambia                         0                 0                 0\nZimbabwe                       0                 0                 0\nÅland Islands                  0                 0                 0\n..............................\n(250, 3)\n"
    }
   ],
   "source": [
    "print(df_region.head(10))\n",
    "print('..............................')\n",
    "print(df_region.tail(10))\n",
    "print('..............................')\n",
    "print(df_region.shape)"
   ]
  },
  {
   "cell_type": "code",
   "execution_count": 56,
   "metadata": {},
   "outputs": [
    {
     "output_type": "stream",
     "name": "stdout",
     "text": "0\n"
    }
   ],
   "source": [
    "print(df_region.loc['United States','Canon mirrorless'])"
   ]
  },
  {
   "cell_type": "code",
   "execution_count": null,
   "metadata": {},
   "outputs": [],
   "source": [
    "# United States, Japan\n",
    "\n"
   ]
  },
  {
   "cell_type": "code",
   "execution_count": null,
   "metadata": {},
   "outputs": [],
   "source": []
  },
  {
   "cell_type": "code",
   "execution_count": null,
   "metadata": {},
   "outputs": [],
   "source": [
    "df.describe()"
   ]
  },
  {
   "cell_type": "code",
   "execution_count": null,
   "metadata": {},
   "outputs": [],
   "source": [
    "df.shape"
   ]
  },
  {
   "cell_type": "code",
   "execution_count": null,
   "metadata": {},
   "outputs": [],
   "source": [
    "df.tail()"
   ]
  }
 ],
 "metadata": {
  "kernelspec": {
   "display_name": "Python 3",
   "language": "python",
   "name": "python3"
  },
  "language_info": {
   "codemirror_mode": {
    "name": "ipython",
    "version": 3
   },
   "file_extension": ".py",
   "mimetype": "text/x-python",
   "name": "python",
   "nbconvert_exporter": "python",
   "pygments_lexer": "ipython3",
   "version": "3.8.2-final"
  }
 },
 "nbformat": 4,
 "nbformat_minor": 4
}